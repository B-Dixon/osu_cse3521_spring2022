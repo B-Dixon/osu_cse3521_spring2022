{
 "cells": [
  {
   "cell_type": "code",
   "execution_count": 1,
   "metadata": {},
   "outputs": [],
   "source": [
    "import numpy as np\n",
    "import pandas as pd\n",
    "import networkx as nx\n",
    "#borrowed heavily from the networkx library."
   ]
  },
  {
   "cell_type": "markdown",
   "metadata": {},
   "source": [
    "### Let's make a graph and get comfy with the framework."
   ]
  },
  {
   "cell_type": "code",
   "execution_count": 74,
   "metadata": {},
   "outputs": [
    {
     "data": {
      "text/plain": [
       "{('A', 'B'): Text(0.07692307692307704, -0.3846153846153846, '4'),\n",
       " ('A', 'C'): Text(-0.7307692307692306, -0.2692307692307692, '2'),\n",
       " ('B', 'C'): Text(0.1923076923076924, -0.2692307692307692, '1'),\n",
       " ('B', 'D'): Text(0.5384615384615384, 0.07692307692307687, '5'),\n",
       " ('C', 'D'): Text(-0.2692307692307691, 0.19230769230769224, '8'),\n",
       " ('C', 'E'): Text(-0.15384615384615377, -0.03846153846153847, '10'),\n",
       " ('D', 'E'): Text(0.1923076923076923, 0.3076923076923076, '2'),\n",
       " ('D', 'F'): Text(0.07692307692307694, 0.42307692307692296, '8')}"
      ]
     },
     "execution_count": 74,
     "metadata": {},
     "output_type": "execute_result"
    },
    {
     "data": {
      "image/png": "[encoded data removed]",
      "text/plain": [
       "<Figure size 432x288 with 1 Axes>"
      ]
     },
     "metadata": {},
     "output_type": "display_data"
    }
   ],
   "source": [
    "edges = [(\"A\",\"B\", {'weight':4}),\n",
    "        (\"A\",\"C\",{'weight':2}),\n",
    "        (\"B\",\"C\",{'weight':1}),\n",
    "        (\"B\",\"D\", {'weight':5}),\n",
    "        (\"C\",\"D\", {'weight':8}),\n",
    "        (\"C\",\"E\", {'weight':10}),\n",
    "        (\"D\",\"E\",{'weight':2}),\n",
    "        (\"D\",\"F\",{'weight':8})\n",
    "        ]\n",
    "edge_labels = {(\"A\",\"B\"):4, (\"A\",\"C\"):2, (\"B\",\"C\"):1, (\"B\",\"D\"):5, (\"C\",\"D\"):8, (\"C\",\"E\"):10, (\"D\",\"E\"):2, (\"D\",\"F\"):8}\n",
    "   \n",
    "        \n",
    "Graph1 = nx.DiGraph()\n",
    "for i in range(1,7):\n",
    "    Graph1.add_node(chr(ord('@')+i))\n",
    "Graph1.add_edges_from(edges)\n",
    "\n",
    "pos = nx.planar_layout(Graph1)\n",
    "edge_labels = nx.get_edge_attributes(Graph1,'weight')\n",
    "nx.draw(Graph1, with_labels = True, pos = pos)\n",
    "\n",
    "nx.draw_networkx_edge_labels(Graph1,pos,edge_labels=edge_labels)\n"
   ]
  },
  {
   "cell_type": "markdown",
   "metadata": {},
   "source": [
    "### Let's make it pretty"
   ]
  },
  {
   "cell_type": "code",
   "execution_count": 75,
   "metadata": {
    "scrolled": true
   },
   "outputs": [
    {
     "data": {
      "text/html": [
       "\n",
       "        <iframe\n",
       "            width=\"500px\"\n",
       "            height=\"500px\"\n",
       "            src=\"GraphSearch.html\"\n",
       "            frameborder=\"0\"\n",
       "            allowfullscreen\n",
       "            \n",
       "        ></iframe>\n",
       "        "
      ],
      "text/plain": [
       "<IPython.lib.display.IFrame at 0x7fe1f206fe20>"
      ]
     },
     "execution_count": 75,
     "metadata": {},
     "output_type": "execute_result"
    }
   ],
   "source": [
    "from pyvis import network as net \n",
    "g1=net.Network(notebook = True)\n",
    "g1.from_nx(Graph1)\n",
    "g1.nodes[0][\"color\"] = \"lightgreen\"\n",
    "g1.nodes[0][\"title\"] = \"start\"\n",
    "g1.nodes[5][\"color\"] = \"red\"\n",
    "g1.nodes[5][\"title\"] = \"end\"\n",
    "\n",
    "g1.show(\"GraphSearch.html\")\n"
   ]
  },
  {
   "cell_type": "code",
   "execution_count": 76,
   "metadata": {
    "scrolled": true
   },
   "outputs": [
    {
     "data": {
      "text/plain": [
       "[{'weight': 4, 'from': 'A', 'to': 'B'},\n",
       " {'weight': 2, 'from': 'A', 'to': 'C'},\n",
       " {'weight': 1, 'from': 'B', 'to': 'C'},\n",
       " {'weight': 5, 'from': 'B', 'to': 'D'},\n",
       " {'weight': 8, 'from': 'C', 'to': 'D'},\n",
       " {'weight': 10, 'from': 'C', 'to': 'E'},\n",
       " {'weight': 2, 'from': 'D', 'to': 'E'},\n",
       " {'weight': 8, 'from': 'D', 'to': 'F'}]"
      ]
     },
     "execution_count": 76,
     "metadata": {},
     "output_type": "execute_result"
    }
   ],
   "source": [
    "g1.edges \n",
    "\n",
    "##bonus thought: what if I wanted to display edges here? Start thinking!"
   ]
  },
  {
   "cell_type": "code",
   "execution_count": 77,
   "metadata": {},
   "outputs": [
    {
     "data": {
      "text/plain": [
       "{'A': ['A'],\n",
       " 'B': ['A', 'B'],\n",
       " 'C': ['A', 'C'],\n",
       " 'D': ['A', 'B', 'D'],\n",
       " 'E': ['A', 'B', 'D', 'E'],\n",
       " 'F': ['A', 'B', 'D', 'F']}"
      ]
     },
     "execution_count": 77,
     "metadata": {},
     "output_type": "execute_result"
    }
   ],
   "source": [
    "nx.shortest_path(Graph1, source=\"A\", weight='weight')"
   ]
  },
  {
   "cell_type": "markdown",
   "metadata": {},
   "source": [
    "## Let's do some Graph theory! Finally!"
   ]
  },
  {
   "cell_type": "markdown",
   "metadata": {},
   "source": [
    "## BFS/DFS"
   ]
  },
  {
   "cell_type": "code",
   "execution_count": 67,
   "metadata": {},
   "outputs": [
    {
     "name": "stdout",
     "output_type": "stream",
     "text": [
      "['A', 'B', 'C', 'D', 'E', 'F']\n"
     ]
    }
   ],
   "source": [
    "print(list(nx.bfs_tree(Graph1, source=\"A\"))) #this graph not very useful to illustrate BFS/DFS. "
   ]
  },
  {
   "cell_type": "code",
   "execution_count": null,
   "metadata": {},
   "outputs": [],
   "source": [
    "#Lets make a better tree"
   ]
  },
  {
   "cell_type": "code",
   "execution_count": 23,
   "metadata": {},
   "outputs": [
    {
     "data": {
      "image/png": "[encoded data removed]",
      "text/plain": [
       "<Figure size 432x288 with 1 Axes>"
      ]
     },
     "metadata": {},
     "output_type": "display_data"
    }
   ],
   "source": [
    "balanced_tree = nx.generators.balanced_tree(2, 5)\n",
    "nx.draw(balanced_tree, with_labels = True)\n",
    "g=net.Network(notebook = True)\n",
    "g.from_nx(balanced_tree)\n",
    "\n",
    "#Play around with an n-ary tree!"
   ]
  },
  {
   "cell_type": "code",
   "execution_count": 24,
   "metadata": {
    "scrolled": true
   },
   "outputs": [
    {
     "data": {
      "text/html": [
       "\n",
       "        <iframe\n",
       "            width=\"500px\"\n",
       "            height=\"500px\"\n",
       "            src=\"GraphSearch.html\"\n",
       "            frameborder=\"0\"\n",
       "            allowfullscreen\n",
       "            \n",
       "        ></iframe>\n",
       "        "
      ],
      "text/plain": [
       "<IPython.lib.display.IFrame at 0x7fe1c90ba100>"
      ]
     },
     "execution_count": 24,
     "metadata": {},
     "output_type": "execute_result"
    }
   ],
   "source": [
    "g.show(\"GraphSearch.html\")"
   ]
  },
  {
   "cell_type": "code",
   "execution_count": 25,
   "metadata": {},
   "outputs": [],
   "source": [
    "#yikes! Not helpfu! \n",
    "# let's use this nifty solution here:\n",
    "#\n",
    "#https://stackoverflow.com/questions/29586520/can-one-get-hierarchical-graphs-from-networkx-with-python-3"
   ]
  },
  {
   "cell_type": "code",
   "execution_count": 68,
   "metadata": {},
   "outputs": [],
   "source": [
    "import random\n",
    "\n",
    "    \n",
    "def hierarchy_pos(G, root=None, width=1., vert_gap = 0.2, vert_loc = 0, xcenter = 0.5):\n",
    "\n",
    "    '''\n",
    "    From Joel's answer at https://stackoverflow.com/a/29597209/2966723.  \n",
    "    Licensed under Creative Commons Attribution-Share Alike \n",
    "    \n",
    "    If the graph is a tree this will return the positions to plot this in a \n",
    "    hierarchical layout.\n",
    "    \n",
    "    G: the graph (must be a tree)\n",
    "    \n",
    "    root: the root node of current branch \n",
    "    - if the tree is directed and this is not given, \n",
    "      the root will be found and used\n",
    "    - if the tree is directed and this is given, then \n",
    "      the positions will be just for the descendants of this node.\n",
    "    - if the tree is undirected and not given, \n",
    "      then a random choice will be used.\n",
    "    \n",
    "    width: horizontal space allocated for this branch - avoids overlap with other branches\n",
    "    \n",
    "    vert_gap: gap between levels of hierarchy\n",
    "    \n",
    "    vert_loc: vertical location of root\n",
    "    \n",
    "    xcenter: horizontal location of root\n",
    "    '''\n",
    "    if not nx.is_tree(G):\n",
    "        raise TypeError('cannot use hierarchy_pos on a graph that is not a tree')\n",
    "\n",
    "    if root is None:\n",
    "        if isinstance(G, nx.DiGraph):\n",
    "            root = next(iter(nx.topological_sort(G)))  #allows back compatibility with nx version 1.11\n",
    "        else:\n",
    "            root = random.choice(list(G.nodes))\n",
    "\n",
    "    def _hierarchy_pos(G, root, width=1., vert_gap = 0.2, vert_loc = 0, xcenter = 0.5, pos = None, parent = None):\n",
    "        '''\n",
    "        see hierarchy_pos docstring for most arguments\n",
    "\n",
    "        pos: a dict saying where all nodes go if they have been assigned\n",
    "        parent: parent of this branch. - only affects it if non-directed\n",
    "\n",
    "        '''\n",
    "    \n",
    "        if pos is None:\n",
    "            pos = {root:(xcenter,vert_loc)}\n",
    "        else:\n",
    "            pos[root] = (xcenter, vert_loc)\n",
    "        children = list(G.neighbors(root))\n",
    "        if not isinstance(G, nx.DiGraph) and parent is not None:\n",
    "            children.remove(parent)  \n",
    "        if len(children)!=0:\n",
    "            dx = width/len(children) \n",
    "            nextx = xcenter - width/2 - dx/2\n",
    "            for child in children:\n",
    "                nextx += dx\n",
    "                pos = _hierarchy_pos(G,child, width = dx, vert_gap = vert_gap, \n",
    "                                    vert_loc = vert_loc-vert_gap, xcenter=nextx,\n",
    "                                    pos=pos, parent = root)\n",
    "        return pos\n",
    "\n",
    "            \n",
    "    return _hierarchy_pos(G, root, width, vert_gap, vert_loc, xcenter)"
   ]
  },
  {
   "cell_type": "code",
   "execution_count": 70,
   "metadata": {},
   "outputs": [
    {
     "data": {
      "image/png": "[encoded data removed]",
      "text/plain": [
       "<Figure size 432x288 with 1 Axes>"
      ]
     },
     "metadata": {},
     "output_type": "display_data"
    }
   ],
   "source": [
    "pos = hierarchy_pos(balanced_tree,0)    \n",
    "nx.draw(balanced_tree, pos=pos, with_labels=True)"
   ]
  },
  {
   "cell_type": "markdown",
   "metadata": {},
   "source": [
    "## BFS & DFS Part Deux"
   ]
  },
  {
   "cell_type": "code",
   "execution_count": 27,
   "metadata": {},
   "outputs": [
    {
     "name": "stdout",
     "output_type": "stream",
     "text": [
      "[0, 1, 2, 3, 4, 5, 6, 7, 8, 9, 10, 11, 12, 13, 14, 15, 16, 17, 18, 19, 20, 21, 22, 23, 24, 25, 26, 27, 28, 29, 30, 31, 32, 33, 34, 35, 36, 37, 38, 39, 40, 41, 42, 43, 44, 45, 46, 47, 48, 49, 50, 51, 52, 53, 54, 55, 56, 57, 58, 59, 60, 61, 62]\n"
     ]
    }
   ],
   "source": [
    "#Let's do the BFS nodes\n",
    "print(list(nx.bfs_tree(balanced_tree, source=0)))"
   ]
  },
  {
   "cell_type": "code",
   "execution_count": 28,
   "metadata": {},
   "outputs": [
    {
     "name": "stdout",
     "output_type": "stream",
     "text": [
      "[(0, 1), (0, 2), (1, 3), (1, 4), (2, 5), (2, 6), (3, 7), (3, 8), (4, 9), (4, 10), (5, 11), (5, 12), (6, 13), (6, 14), (7, 15), (7, 16), (8, 17), (8, 18), (9, 19), (9, 20), (10, 21), (10, 22), (11, 23), (11, 24), (12, 25), (12, 26), (13, 27), (13, 28), (14, 29), (14, 30), (15, 31), (15, 32), (16, 33), (16, 34), (17, 35), (17, 36), (18, 37), (18, 38), (19, 39), (19, 40), (20, 41), (20, 42), (21, 43), (21, 44), (22, 45), (22, 46), (23, 47), (23, 48), (24, 49), (24, 50), (25, 51), (25, 52), (26, 53), (26, 54), (27, 55), (27, 56), (28, 57), (28, 58), (29, 59), (29, 60), (30, 61), (30, 62)]\n"
     ]
    }
   ],
   "source": [
    "#Let's do the BFS edges\n",
    "print(list(nx.bfs_tree(balanced_tree, source=0).edges()))"
   ]
  },
  {
   "cell_type": "code",
   "execution_count": 29,
   "metadata": {},
   "outputs": [
    {
     "name": "stdout",
     "output_type": "stream",
     "text": [
      "[0, 1, 3, 7, 15, 31, 32, 16, 33, 34, 8, 17, 35, 36, 18, 37, 38, 4, 9, 19, 39, 40, 20, 41, 42, 10, 21, 43, 44, 22, 45, 46, 2, 5, 11, 23, 47, 48, 24, 49, 50, 12, 25, 51, 52, 26, 53, 54, 6, 13, 27, 55, 56, 28, 57, 58, 14, 29, 59, 60, 30, 61, 62]\n"
     ]
    }
   ],
   "source": [
    "#Let's do the DFS nodes\n",
    "print(list(nx.dfs_tree(balanced_tree, source=0)))"
   ]
  },
  {
   "cell_type": "code",
   "execution_count": 30,
   "metadata": {},
   "outputs": [
    {
     "name": "stdout",
     "output_type": "stream",
     "text": [
      "[(0, 1), (1, 3), (3, 7), (7, 15), (15, 31), (15, 32), (7, 16), (16, 33), (16, 34), (3, 8), (8, 17), (17, 35), (17, 36), (8, 18), (18, 37), (18, 38), (1, 4), (4, 9), (9, 19), (19, 39), (19, 40), (9, 20), (20, 41), (20, 42), (4, 10), (10, 21), (21, 43), (21, 44), (10, 22), (22, 45), (22, 46), (0, 2), (2, 5), (5, 11), (11, 23), (23, 47), (23, 48), (11, 24), (24, 49), (24, 50), (5, 12), (12, 25), (25, 51), (25, 52), (12, 26), (26, 53), (26, 54), (2, 6), (6, 13), (13, 27), (27, 55), (27, 56), (13, 28), (28, 57), (28, 58), (6, 14), (14, 29), (29, 59), (29, 60), (14, 30), (30, 61), (30, 62)]\n"
     ]
    }
   ],
   "source": [
    "#Let's do the DFS edges\n",
    "print(list(nx.dfs_edges(balanced_tree, source=0)))"
   ]
  },
  {
   "cell_type": "markdown",
   "metadata": {},
   "source": [
    "### Let's make a good graph for Djikstra & A*"
   ]
  },
  {
   "cell_type": "code",
   "execution_count": 46,
   "metadata": {},
   "outputs": [
    {
     "data": {
      "image/png": "[encoded data removed]",
      "text/plain": [
       "<Figure size 432x288 with 1 Axes>"
      ]
     },
     "metadata": {},
     "output_type": "display_data"
    }
   ],
   "source": [
    "import matplotlib.pyplot as plt \n",
    "DA = nx.grid_graph(dim=[4, 4])  # nodes are two-tuples (x,y)\n",
    "nx.set_edge_attributes(DA, {e: e[1][0] * 2 for e in DA.edges()}, \"cost\")\n",
    "pos = nx.spring_layout(DA)\n",
    "nx.draw(DA, pos, with_labels = True, node_color=\"#f86e00\")\n",
    "edge_labels = nx.get_edge_attributes(DA, \"cost\")\n",
    "nx.draw_networkx_edge_labels(DA, pos, edge_labels=edge_labels)\n",
    "plt.show()\n",
    "\n",
    "##Ignore the weights for now!"
   ]
  },
  {
   "cell_type": "code",
   "execution_count": 55,
   "metadata": {},
   "outputs": [
    {
     "name": "stdout",
     "output_type": "stream",
     "text": [
      "idx: 0- edge: ((0, 0), (1, 0))\n",
      "idx: 1- edge: ((0, 0), (0, 1))\n",
      "idx: 2- edge: ((0, 1), (1, 1))\n",
      "idx: 3- edge: ((0, 1), (0, 2))\n",
      "idx: 4- edge: ((0, 2), (1, 2))\n",
      "idx: 5- edge: ((0, 2), (0, 3))\n",
      "idx: 6- edge: ((0, 3), (1, 3))\n",
      "idx: 7- edge: ((1, 0), (2, 0))\n",
      "idx: 8- edge: ((1, 0), (1, 1))\n",
      "idx: 9- edge: ((1, 1), (2, 1))\n",
      "idx: 10- edge: ((1, 1), (1, 2))\n",
      "idx: 11- edge: ((1, 2), (2, 2))\n",
      "idx: 12- edge: ((1, 2), (1, 3))\n",
      "idx: 13- edge: ((1, 3), (2, 3))\n",
      "idx: 14- edge: ((2, 0), (3, 0))\n",
      "idx: 15- edge: ((2, 0), (2, 1))\n",
      "idx: 16- edge: ((2, 1), (3, 1))\n",
      "idx: 17- edge: ((2, 1), (2, 2))\n",
      "idx: 18- edge: ((2, 2), (3, 2))\n",
      "idx: 19- edge: ((2, 2), (2, 3))\n",
      "idx: 20- edge: ((2, 3), (3, 3))\n",
      "idx: 21- edge: ((3, 0), (3, 1))\n",
      "idx: 22- edge: ((3, 1), (3, 2))\n",
      "idx: 23- edge: ((3, 2), (3, 3))\n"
     ]
    },
    {
     "data": {
      "text/plain": [
       "24"
      ]
     },
     "execution_count": 55,
     "metadata": {},
     "output_type": "execute_result"
    }
   ],
   "source": [
    "for idx, e in enumerate(G.edges()):\n",
    "    print(\"idx: \" + str(idx) + \"- edge: \" + str(e))\n",
    "G.number_of_edges() #Do the SMART thing. DO things the EASY way. "
   ]
  },
  {
   "cell_type": "code",
   "execution_count": 43,
   "metadata": {},
   "outputs": [
    {
     "name": "stdout",
     "output_type": "stream",
     "text": [
      "[(0, 0), (1, 0), (0, 1), (2, 0), (1, 1), (0, 2), (3, 0), (2, 1), (1, 2), (0, 3), (3, 1), (2, 2), (1, 3), (3, 2), (2, 3), (3, 3)]\n"
     ]
    }
   ],
   "source": [
    "print(list(nx.bfs_tree(DA, source=(0,0)))) ## BFS"
   ]
  },
  {
   "cell_type": "code",
   "execution_count": 45,
   "metadata": {},
   "outputs": [
    {
     "name": "stdout",
     "output_type": "stream",
     "text": [
      "[(0, 0), (1, 0), (2, 0), (3, 0), (3, 1), (2, 1), (1, 1), (0, 1), (0, 2), (1, 2), (2, 2), (3, 2), (3, 3), (2, 3), (1, 3), (0, 3)]\n"
     ]
    }
   ],
   "source": [
    "print(list(nx.dfs_tree(DA, source=(0,0)))) ##DFS"
   ]
  },
  {
   "cell_type": "markdown",
   "metadata": {},
   "source": [
    "## Djikstra's (greedy? (kinda). UCS (kinda). Awesome? Yes!)"
   ]
  },
  {
   "cell_type": "code",
   "execution_count": 71,
   "metadata": {},
   "outputs": [
    {
     "data": {
      "text/plain": [
       "{(0, 0): [(0, 0)],\n",
       " (1, 0): [(0, 0), (1, 0)],\n",
       " (0, 1): [(0, 0), (0, 1)],\n",
       " (2, 0): [(0, 0), (1, 0), (2, 0)],\n",
       " (1, 1): [(0, 0), (1, 0), (1, 1)],\n",
       " (0, 2): [(0, 0), (0, 1), (0, 2)],\n",
       " (3, 0): [(0, 0), (1, 0), (2, 0), (3, 0)],\n",
       " (2, 1): [(0, 0), (1, 0), (2, 0), (2, 1)],\n",
       " (1, 2): [(0, 0), (1, 0), (1, 1), (1, 2)],\n",
       " (0, 3): [(0, 0), (0, 1), (0, 2), (0, 3)],\n",
       " (3, 1): [(0, 0), (1, 0), (2, 0), (3, 0), (3, 1)],\n",
       " (2, 2): [(0, 0), (1, 0), (2, 0), (2, 1), (2, 2)],\n",
       " (1, 3): [(0, 0), (1, 0), (1, 1), (1, 2), (1, 3)],\n",
       " (3, 2): [(0, 0), (1, 0), (2, 0), (3, 0), (3, 1), (3, 2)],\n",
       " (2, 3): [(0, 0), (1, 0), (2, 0), (2, 1), (2, 2), (2, 3)],\n",
       " (3, 3): [(0, 0), (1, 0), (2, 0), (3, 0), (3, 1), (3, 2), (3, 3)]}"
      ]
     },
     "execution_count": 71,
     "metadata": {},
     "output_type": "execute_result"
    }
   ],
   "source": [
    "p1 = nx.shortest_path(DA, source=(0,0), weight='weight')\n",
    "p1"
   ]
  },
  {
   "cell_type": "markdown",
   "metadata": {},
   "source": [
    "### A*\n"
   ]
  },
  {
   "cell_type": "code",
   "execution_count": 58,
   "metadata": {},
   "outputs": [
    {
     "name": "stdout",
     "output_type": "stream",
     "text": [
      "Path: [(0, 0), (0, 1), (0, 2), (0, 3), (1, 3), (2, 3), (3, 3)]\n",
      "Path length: 12\n"
     ]
    }
   ],
   "source": [
    "import networkx as nx\n",
    "\n",
    "def dist(a, b):\n",
    "    (x1, y1) = a\n",
    "    (x2, y2) = b\n",
    "    return ((x1 - x2) ** 2 + (y1 - y2) ** 2) ** 0.5\n",
    "\n",
    "path = nx.astar_path(DA, (0, 0), (3, 3), heuristic=dist, weight=\"cost\")\n",
    "length = nx.astar_path_length(DA, (0, 0), (3, 3), heuristic=dist, weight=\"cost\")\n",
    "print(\"Path: \" + str(path))\n",
    "print(\"Path length: \" + str(length))\n"
   ]
  },
  {
   "cell_type": "code",
   "execution_count": null,
   "metadata": {},
   "outputs": [],
   "source": []
  },
  {
   "cell_type": "code",
   "execution_count": null,
   "metadata": {},
   "outputs": [],
   "source": []
  },
  {
   "cell_type": "code",
   "execution_count": null,
   "metadata": {},
   "outputs": [],
   "source": []
  }
 ],
 "metadata": {
  "kernelspec": {
   "display_name": "mach4_analysis",
   "language": "python",
   "name": "mach4_analysis"
  },
  "language_info": {
   "codemirror_mode": {
    "name": "ipython",
    "version": 3
   },
   "file_extension": ".py",
   "mimetype": "text/x-python",
   "name": "python",
   "nbconvert_exporter": "python",
   "pygments_lexer": "ipython3",
   "version": "3.9.7"
  }
 },
 "nbformat": 4,
 "nbformat_minor": 4
}
